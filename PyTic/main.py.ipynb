{
 "cells": [
  {
   "cell_type": "code",
   "execution_count": 5,
   "id": "c8049e31",
   "metadata": {},
   "outputs": [],
   "source": [
    "import numpy as np\n",
    "import tkinter as tk # GUI\n",
    "import math"
   ]
  },
  {
   "cell_type": "markdown",
   "id": "65f1290a",
   "metadata": {},
   "source": [
    "### AI Evaluation\n",
    "There are two evaluation functions we can implement in our AI via the minimax algorithm:\n",
    "1. Score based on win, lose, or draw\n",
    "2. Score based on number of connections that can be made  \n",
    "\n",
    "Since this game is fairly simple (just a 3x3 board), we will use the first evaluation method"
   ]
  },
  {
   "cell_type": "code",
   "execution_count": 30,
   "id": "84778c38",
   "metadata": {},
   "outputs": [],
   "source": [
    "class TicTacToe:\n",
    "    def __init__(self):\n",
    "        self.reset()\n",
    "        \n",
    "    def reset(self):\n",
    "        self.state = np.zeros(9, dtype=int)\n",
    "        self.over = False\n",
    "        self.turn = -1 # start with the human player\n",
    "        \n",
    "    def isWinner(self, player):\n",
    "        s = self.state\n",
    "        for i in range(3):\n",
    "            # horizontal\n",
    "            if all([x == player for x in s[3*i:3*i+3]]):\n",
    "                return True\n",
    "            # vertical\n",
    "            if all([x == player for x in [s[i], s[i+3], s[i+6]]]):\n",
    "                return True\n",
    "            # negative slope diagonal\n",
    "            if all([x == player for x in [s[0], s[4], s[8]]]):\n",
    "                return True\n",
    "            # positive slope diagonal\n",
    "            if all([x == player for x in [s[2], s[4], s[6]]]):\n",
    "                return True\n",
    "\n",
    "            return False # no winner\n",
    "    \n",
    "    # helper function for evaluating score of a game state\n",
    "    # RETURNS: score of a 3-element window in a game state\n",
    "#     def evaluateWindow(self, window):\n",
    "#         score = 0\n",
    "#         maxScore = 100\n",
    "#         slotScore = 2\n",
    "#         numPlayer = window.count(self.turn)\n",
    "#         numOpp = window.count(-self.turn)\n",
    "#         numEmpty = window.count(0)\n",
    "        \n",
    "#         if numPlayer == 3:\n",
    "#             # bro just won, WE GO TO THIS PATH\n",
    "#             score += maxScore\n",
    "            \n",
    "#         elif numPlayer == 2 and numEmpty == 1:\n",
    "#             # two connections\n",
    "#             score += slotScore * numPlayer\n",
    "        \n",
    "#         elif numPlayer == 1 and numEmpty == 2:\n",
    "#             # one connection\n",
    "#             score += slotScore * numPlayer\n",
    "        \n",
    "#         if numOpp == 2 and numEmpty == 1:\n",
    "#             # bro is about to lose, WE DON'T DO THAT\n",
    "#             score -= maxScore\n",
    "               \n",
    "#        return score\n",
    "            \n",
    "    \n",
    "    # evaluates score of a player in current game state\n",
    "    # RETURNS: \n",
    "        # positive if player is winning\n",
    "        # negative if player is losing\n",
    "        # 0 if draw\n",
    "#     def evaluateState(self):\n",
    "#         s = self.state\n",
    "        \n",
    "#         for pos in range(3):\n",
    "#             # score of horizontals\n",
    "#             score += evaluateWindow(s[3*pos:3*pos+3])\n",
    "#             # score of verticals\n",
    "#             score += evaluateWindow([s[i], s[pos+3], s[pos+6]])\n",
    "#             # score of diagonals\n",
    "#             score += evaluateWindow([s[0], s[4], s[8]])\n",
    "#             score += evaluateWindow([s[2], s[4], s[6]])\n",
    "        \n",
    "#         return score\n",
    "    \n",
    "    # Does the current game state in game tree lead to a win or a draw?\n",
    "    def isTerminatingNode(self):\n",
    "        return self.isWinner(-1) or self.isWinner(1) or all([x != 0 for x in state]) \n",
    "    \n",
    "    # will go through all game states since game is only 3x3\n",
    "    def minimax(self, state, maximizingPlayer):\n",
    "        # if terminating node:\n",
    "        # TERMINATING: board is full or win has occurred\n",
    "        # RETURN heuristic value of node\n",
    "        #if (all([x != 0 for x in state]) or checkWin())\n",
    "        pass\n",
    "        \n",
    "        \n",
    "        \n",
    "    def step(self, pos):\n",
    "        if (self.state[pos] != 0):\n",
    "            # position already filled\n",
    "            print(\"That move is illegal!\")\n",
    "            return False\n",
    "        self.state[pos] = self.turn\n",
    "        \n",
    "        if (self.turn == -1):\n",
    "            # switch to AI\n",
    "            self.turn = 1\n",
    "        else:\n",
    "            # switch to human\n",
    "            self.turn = -1\n",
    "                \n",
    "    def printBoard(self):\n",
    "        print(self.state.reshape(3, 3))\n",
    "    \n",
    "        "
   ]
  },
  {
   "cell_type": "code",
   "execution_count": 29,
   "id": "66ea5d82",
   "metadata": {
    "scrolled": true
   },
   "outputs": [
    {
     "name": "stdout",
     "output_type": "stream",
     "text": [
      "Test: 0\n",
      "0\n"
     ]
    }
   ],
   "source": [
    "if __name__ == '__main__':\n",
    "    game = TicTacToe()\n",
    "    print(game.evaluateWindow([-1, 0, 0]))"
   ]
  },
  {
   "cell_type": "code",
   "execution_count": null,
   "id": "3b0c1b9c",
   "metadata": {},
   "outputs": [],
   "source": []
  }
 ],
 "metadata": {
  "kernelspec": {
   "display_name": "Python 3 (ipykernel)",
   "language": "python",
   "name": "python3"
  },
  "language_info": {
   "codemirror_mode": {
    "name": "ipython",
    "version": 3
   },
   "file_extension": ".py",
   "mimetype": "text/x-python",
   "name": "python",
   "nbconvert_exporter": "python",
   "pygments_lexer": "ipython3",
   "version": "3.9.13"
  }
 },
 "nbformat": 4,
 "nbformat_minor": 5
}

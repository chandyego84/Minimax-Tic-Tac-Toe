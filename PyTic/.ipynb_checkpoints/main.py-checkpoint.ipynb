{
 "cells": [
  {
   "cell_type": "code",
   "execution_count": 1,
   "id": "c8049e31",
   "metadata": {},
   "outputs": [],
   "source": [
    "import numpy as np\n",
    "import tkinter as tk # GUI"
   ]
  },
  {
   "cell_type": "code",
   "execution_count": 55,
   "id": "84778c38",
   "metadata": {},
   "outputs": [],
   "source": [
    "class TicTacToe:\n",
    "    def __init__(self):\n",
    "        self.reset()\n",
    "        \n",
    "    def reset(self):\n",
    "        self.state = np.zeros(9, dtype=int)\n",
    "        self.over = False\n",
    "        self.turn = -1 # start with the human player\n",
    "        \n",
    "    def step(self, pos):\n",
    "        if (self.state[pos] != 0):\n",
    "            # position already filled\n",
    "            print(\"That move is illegal!\")\n",
    "            return False\n",
    "        self.state[pos] = self.turn\n",
    "        \n",
    "        # check if move made win\n",
    "        if (game.isWinner()):\n",
    "            print(\"Winner!\")\n",
    "        \n",
    "        if (self.turn == -1):\n",
    "            # switch to AI\n",
    "            self.turn = 1\n",
    "        else:\n",
    "            # switch to human\n",
    "            self.turn = -1\n",
    "    \n",
    "    def isWinner(self):\n",
    "        for i in range(3):\n",
    "            # horizontal\n",
    "            if all([x == self.turn for x in self.state[3*i:3*i+3]]):\n",
    "                return True\n",
    "            # vertical\n",
    "            if all([x == self.turn for x in [self.state[i], self.state[i+3], self.state[i+6]]]):\n",
    "                return True\n",
    "            # negative slope diagonal\n",
    "            if all([x == self.turn for x in [self.state[0], self.state[4], self.state[8]]]):\n",
    "                return True\n",
    "            # positive slope diagonal\n",
    "            if all([x == self.turn for x in [self.state[2], self.state[4], self.state[6]]]):\n",
    "                return True\n",
    "            \n",
    "            return False # no winner\n",
    "            \n",
    "    def printBoard(self):\n",
    "        print(self.state.reshape(3, 3))\n",
    "    \n",
    "        "
   ]
  },
  {
   "cell_type": "code",
   "execution_count": 56,
   "id": "66ea5d82",
   "metadata": {
    "scrolled": true
   },
   "outputs": [
    {
     "name": "stdout",
     "output_type": "stream",
     "text": [
      "Winner!\n",
      "[[-1  1  1]\n",
      " [ 0 -1  0]\n",
      " [ 0  0 -1]]\n"
     ]
    }
   ],
   "source": [
    "if __name__ == '__main__':\n",
    "    game = TicTacToe()"
   ]
  },
  {
   "cell_type": "code",
   "execution_count": null,
   "id": "3b0c1b9c",
   "metadata": {},
   "outputs": [],
   "source": []
  }
 ],
 "metadata": {
  "kernelspec": {
   "display_name": "Python 3 (ipykernel)",
   "language": "python",
   "name": "python3"
  },
  "language_info": {
   "codemirror_mode": {
    "name": "ipython",
    "version": 3
   },
   "file_extension": ".py",
   "mimetype": "text/x-python",
   "name": "python",
   "nbconvert_exporter": "python",
   "pygments_lexer": "ipython3",
   "version": "3.9.13"
  }
 },
 "nbformat": 4,
 "nbformat_minor": 5
}
